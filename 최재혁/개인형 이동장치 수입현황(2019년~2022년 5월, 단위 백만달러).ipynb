{
 "cells": [
  {
   "cell_type": "code",
   "execution_count": 2,
   "id": "c2eb6a8c",
   "metadata": {},
   "outputs": [],
   "source": [
    "import pandas as pd"
   ]
  },
  {
   "cell_type": "code",
   "execution_count": 3,
   "id": "8ec09d81",
   "metadata": {},
   "outputs": [],
   "source": [
    "raw_data=pd.read_csv('C:\\\\rawData\\\\개인형 이동장치 수입현황(2019년~2022년 5월, 단위 백만달러).csv',encoding='cp949')"
   ]
  },
  {
   "cell_type": "code",
   "execution_count": 4,
   "id": "e38d1527",
   "metadata": {},
   "outputs": [],
   "source": [
    "raw_data.columns=[\"종류\",\"비고\",\"2019년\",\"2020년\",\"2021년\",\"2022년 1~5월\"]"
   ]
  },
  {
   "cell_type": "code",
   "execution_count": 5,
   "id": "ca2b0aa4",
   "metadata": {},
   "outputs": [
    {
     "data": {
      "text/html": [
       "<div>\n",
       "<style scoped>\n",
       "    .dataframe tbody tr th:only-of-type {\n",
       "        vertical-align: middle;\n",
       "    }\n",
       "\n",
       "    .dataframe tbody tr th {\n",
       "        vertical-align: top;\n",
       "    }\n",
       "\n",
       "    .dataframe thead th {\n",
       "        text-align: right;\n",
       "    }\n",
       "</style>\n",
       "<table border=\"1\" class=\"dataframe\">\n",
       "  <thead>\n",
       "    <tr style=\"text-align: right;\">\n",
       "      <th></th>\n",
       "      <th>종류</th>\n",
       "      <th>비고</th>\n",
       "      <th>2019년</th>\n",
       "      <th>2020년</th>\n",
       "      <th>2021년</th>\n",
       "      <th>2022년 1~5월</th>\n",
       "    </tr>\n",
       "  </thead>\n",
       "  <tbody>\n",
       "    <tr>\n",
       "      <th>0</th>\n",
       "      <td>개인형 이동장치</td>\n",
       "      <td>금액</td>\n",
       "      <td>89.9</td>\n",
       "      <td>131.7</td>\n",
       "      <td>193.7</td>\n",
       "      <td>65.0</td>\n",
       "    </tr>\n",
       "    <tr>\n",
       "      <th>1</th>\n",
       "      <td>개인형 이동장치</td>\n",
       "      <td>증감률</td>\n",
       "      <td>25.4</td>\n",
       "      <td>46.5</td>\n",
       "      <td>47.0</td>\n",
       "      <td>33.3</td>\n",
       "    </tr>\n",
       "    <tr>\n",
       "      <th>2</th>\n",
       "      <td>개인형 이동장치</td>\n",
       "      <td>비중</td>\n",
       "      <td>100.0</td>\n",
       "      <td>100.0</td>\n",
       "      <td>100.0</td>\n",
       "      <td>100.0</td>\n",
       "    </tr>\n",
       "    <tr>\n",
       "      <th>3</th>\n",
       "      <td>전동킥보드</td>\n",
       "      <td>금액</td>\n",
       "      <td>61.0</td>\n",
       "      <td>89.2</td>\n",
       "      <td>111.6</td>\n",
       "      <td>33.9</td>\n",
       "    </tr>\n",
       "    <tr>\n",
       "      <th>4</th>\n",
       "      <td>전동킥보드</td>\n",
       "      <td>증감률</td>\n",
       "      <td>7.2</td>\n",
       "      <td>46.2</td>\n",
       "      <td>25.1</td>\n",
       "      <td>45.8</td>\n",
       "    </tr>\n",
       "    <tr>\n",
       "      <th>5</th>\n",
       "      <td>전동킥보드</td>\n",
       "      <td>비중</td>\n",
       "      <td>67.9</td>\n",
       "      <td>67.7</td>\n",
       "      <td>57.6</td>\n",
       "      <td>52.1</td>\n",
       "    </tr>\n",
       "    <tr>\n",
       "      <th>6</th>\n",
       "      <td>전기자전거</td>\n",
       "      <td>금액</td>\n",
       "      <td>28.9</td>\n",
       "      <td>42.5</td>\n",
       "      <td>82.0</td>\n",
       "      <td>31.1</td>\n",
       "    </tr>\n",
       "    <tr>\n",
       "      <th>7</th>\n",
       "      <td>전기자전거</td>\n",
       "      <td>증감률</td>\n",
       "      <td>95.4</td>\n",
       "      <td>47.2</td>\n",
       "      <td>93.0</td>\n",
       "      <td>11.0</td>\n",
       "    </tr>\n",
       "    <tr>\n",
       "      <th>8</th>\n",
       "      <td>전기자전거</td>\n",
       "      <td>비중</td>\n",
       "      <td>32.1</td>\n",
       "      <td>32.3</td>\n",
       "      <td>42.4</td>\n",
       "      <td>47.9</td>\n",
       "    </tr>\n",
       "  </tbody>\n",
       "</table>\n",
       "</div>"
      ],
      "text/plain": [
       "         종류   비고  2019년  2020년  2021년  2022년 1~5월\n",
       "0  개인형 이동장치   금액   89.9  131.7  193.7        65.0\n",
       "1  개인형 이동장치  증감률   25.4   46.5   47.0        33.3\n",
       "2  개인형 이동장치   비중  100.0  100.0  100.0       100.0\n",
       "3     전동킥보드   금액   61.0   89.2  111.6        33.9\n",
       "4     전동킥보드  증감률    7.2   46.2   25.1        45.8\n",
       "5     전동킥보드   비중   67.9   67.7   57.6        52.1\n",
       "6     전기자전거   금액   28.9   42.5   82.0        31.1\n",
       "7     전기자전거  증감률   95.4   47.2   93.0        11.0\n",
       "8     전기자전거   비중   32.1   32.3   42.4        47.9"
      ]
     },
     "execution_count": 5,
     "metadata": {},
     "output_type": "execute_result"
    }
   ],
   "source": [
    "raw_data"
   ]
  },
  {
   "cell_type": "code",
   "execution_count": 6,
   "id": "90639ab3",
   "metadata": {},
   "outputs": [],
   "source": [
    "pm_data_금액=raw_data[raw_data['비고']==\"금액\"]\n",
    "pm_data_금액=pm_data_금액[[\"종류\",\"2019년\",\"2020년\",\"2021년\",\"2022년 1~5월\"]]"
   ]
  },
  {
   "cell_type": "code",
   "execution_count": 7,
   "id": "de9edfc3",
   "metadata": {},
   "outputs": [
    {
     "data": {
      "text/html": [
       "<div>\n",
       "<style scoped>\n",
       "    .dataframe tbody tr th:only-of-type {\n",
       "        vertical-align: middle;\n",
       "    }\n",
       "\n",
       "    .dataframe tbody tr th {\n",
       "        vertical-align: top;\n",
       "    }\n",
       "\n",
       "    .dataframe thead th {\n",
       "        text-align: right;\n",
       "    }\n",
       "</style>\n",
       "<table border=\"1\" class=\"dataframe\">\n",
       "  <thead>\n",
       "    <tr style=\"text-align: right;\">\n",
       "      <th></th>\n",
       "      <th>종류</th>\n",
       "      <th>2019년</th>\n",
       "      <th>2020년</th>\n",
       "      <th>2021년</th>\n",
       "      <th>2022년 1~5월</th>\n",
       "    </tr>\n",
       "  </thead>\n",
       "  <tbody>\n",
       "    <tr>\n",
       "      <th>0</th>\n",
       "      <td>개인형 이동장치</td>\n",
       "      <td>89.9</td>\n",
       "      <td>131.7</td>\n",
       "      <td>193.7</td>\n",
       "      <td>65.0</td>\n",
       "    </tr>\n",
       "    <tr>\n",
       "      <th>3</th>\n",
       "      <td>전동킥보드</td>\n",
       "      <td>61.0</td>\n",
       "      <td>89.2</td>\n",
       "      <td>111.6</td>\n",
       "      <td>33.9</td>\n",
       "    </tr>\n",
       "    <tr>\n",
       "      <th>6</th>\n",
       "      <td>전기자전거</td>\n",
       "      <td>28.9</td>\n",
       "      <td>42.5</td>\n",
       "      <td>82.0</td>\n",
       "      <td>31.1</td>\n",
       "    </tr>\n",
       "  </tbody>\n",
       "</table>\n",
       "</div>"
      ],
      "text/plain": [
       "         종류  2019년  2020년  2021년  2022년 1~5월\n",
       "0  개인형 이동장치   89.9  131.7  193.7        65.0\n",
       "3     전동킥보드   61.0   89.2  111.6        33.9\n",
       "6     전기자전거   28.9   42.5   82.0        31.1"
      ]
     },
     "execution_count": 7,
     "metadata": {},
     "output_type": "execute_result"
    }
   ],
   "source": [
    "# 참고 : 단위는 백만달러\n",
    "pm_data_금액"
   ]
  },
  {
   "cell_type": "code",
   "execution_count": 8,
   "id": "7bc5073b",
   "metadata": {},
   "outputs": [],
   "source": [
    "pm_data_비중=raw_data[raw_data['비고']==\"비중\"]\n",
    "pm_data_비중=pm_data_비중[[\"종류\",\"2019년\",\"2020년\",\"2021년\",\"2022년 1~5월\"]]"
   ]
  },
  {
   "cell_type": "code",
   "execution_count": 9,
   "id": "19c98617",
   "metadata": {},
   "outputs": [
    {
     "data": {
      "text/html": [
       "<div>\n",
       "<style scoped>\n",
       "    .dataframe tbody tr th:only-of-type {\n",
       "        vertical-align: middle;\n",
       "    }\n",
       "\n",
       "    .dataframe tbody tr th {\n",
       "        vertical-align: top;\n",
       "    }\n",
       "\n",
       "    .dataframe thead th {\n",
       "        text-align: right;\n",
       "    }\n",
       "</style>\n",
       "<table border=\"1\" class=\"dataframe\">\n",
       "  <thead>\n",
       "    <tr style=\"text-align: right;\">\n",
       "      <th></th>\n",
       "      <th>종류</th>\n",
       "      <th>2019년</th>\n",
       "      <th>2020년</th>\n",
       "      <th>2021년</th>\n",
       "      <th>2022년 1~5월</th>\n",
       "    </tr>\n",
       "  </thead>\n",
       "  <tbody>\n",
       "    <tr>\n",
       "      <th>2</th>\n",
       "      <td>개인형 이동장치</td>\n",
       "      <td>100.0</td>\n",
       "      <td>100.0</td>\n",
       "      <td>100.0</td>\n",
       "      <td>100.0</td>\n",
       "    </tr>\n",
       "    <tr>\n",
       "      <th>5</th>\n",
       "      <td>전동킥보드</td>\n",
       "      <td>67.9</td>\n",
       "      <td>67.7</td>\n",
       "      <td>57.6</td>\n",
       "      <td>52.1</td>\n",
       "    </tr>\n",
       "    <tr>\n",
       "      <th>8</th>\n",
       "      <td>전기자전거</td>\n",
       "      <td>32.1</td>\n",
       "      <td>32.3</td>\n",
       "      <td>42.4</td>\n",
       "      <td>47.9</td>\n",
       "    </tr>\n",
       "  </tbody>\n",
       "</table>\n",
       "</div>"
      ],
      "text/plain": [
       "         종류  2019년  2020년  2021년  2022년 1~5월\n",
       "2  개인형 이동장치  100.0  100.0  100.0       100.0\n",
       "5     전동킥보드   67.9   67.7   57.6        52.1\n",
       "8     전기자전거   32.1   32.3   42.4        47.9"
      ]
     },
     "execution_count": 9,
     "metadata": {},
     "output_type": "execute_result"
    }
   ],
   "source": [
    "# 참고 : 단위는 백만달러\n",
    "pm_data_비중"
   ]
  },
  {
   "cell_type": "code",
   "execution_count": null,
   "id": "5b5e1473",
   "metadata": {},
   "outputs": [],
   "source": []
  }
 ],
 "metadata": {
  "kernelspec": {
   "display_name": "Python 3 (ipykernel)",
   "language": "python",
   "name": "python3"
  },
  "language_info": {
   "codemirror_mode": {
    "name": "ipython",
    "version": 3
   },
   "file_extension": ".py",
   "mimetype": "text/x-python",
   "name": "python",
   "nbconvert_exporter": "python",
   "pygments_lexer": "ipython3",
   "version": "3.9.13"
  }
 },
 "nbformat": 4,
 "nbformat_minor": 5
}
