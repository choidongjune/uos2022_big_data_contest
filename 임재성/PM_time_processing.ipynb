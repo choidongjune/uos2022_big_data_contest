{
  "nbformat": 4,
  "nbformat_minor": 0,
  "metadata": {
    "colab": {
      "provenance": []
    },
    "kernelspec": {
      "name": "python3",
      "display_name": "Python 3"
    },
    "language_info": {
      "name": "python"
    }
  },
  "cells": [
    {
      "cell_type": "code",
      "execution_count": null,
      "metadata": {
        "colab": {
          "base_uri": "https://localhost:8080/"
        },
        "id": "1DMSU6iMt7Z2",
        "outputId": "c98e0675-62e6-4f25-d602-859a9b0fa8d4"
      },
      "outputs": [
        {
          "output_type": "stream",
          "name": "stdout",
          "text": [
            "Looking in indexes: https://pypi.org/simple, https://us-python.pkg.dev/colab-wheels/public/simple/\n",
            "Collecting xlrd==1.2.0\n",
            "  Downloading xlrd-1.2.0-py2.py3-none-any.whl (103 kB)\n",
            "\u001b[K     |████████████████████████████████| 103 kB 9.2 MB/s \n",
            "\u001b[?25hInstalling collected packages: xlrd\n",
            "  Attempting uninstall: xlrd\n",
            "    Found existing installation: xlrd 1.1.0\n",
            "    Uninstalling xlrd-1.1.0:\n",
            "      Successfully uninstalled xlrd-1.1.0\n",
            "Successfully installed xlrd-1.2.0\n"
          ]
        }
      ],
      "source": [
        "!pip install xlrd==1.2.0"
      ]
    },
    {
      "cell_type": "code",
      "source": [
        "from google.colab import drive\n",
        "drive.mount('/content/gdrive')"
      ],
      "metadata": {
        "colab": {
          "base_uri": "https://localhost:8080/"
        },
        "id": "6SfcDI78t-X6",
        "outputId": "cd7fda99-46d7-4c4a-aea5-e009a9c7bd9c"
      },
      "execution_count": null,
      "outputs": [
        {
          "output_type": "stream",
          "name": "stdout",
          "text": [
            "Mounted at /content/gdrive\n"
          ]
        }
      ]
    },
    {
      "cell_type": "code",
      "source": [
        "import pandas as pd"
      ],
      "metadata": {
        "id": "RSt1bsFat_de"
      },
      "execution_count": null,
      "outputs": []
    },
    {
      "cell_type": "code",
      "source": [
        "# local_file_path : 로컬 파일 경로 \n",
        "local_file_path = '../data/시간대별 교통사고.xls' \n",
        "colab_file_path =  '/content/gdrive/My Drive/빅데이터경진대회/시간대별 교통사고.xls' \n",
        "file_path = colab_file_path\n",
        "\n",
        "df1_raw = pd.read_excel(file_path)"
      ],
      "metadata": {
        "id": "1ahn0mW1uAyG"
      },
      "execution_count": null,
      "outputs": []
    },
    {
      "cell_type": "code",
      "source": [
        "df1_pm_raw = df1_raw.iloc[58:61, 2:]"
      ],
      "metadata": {
        "id": "uh9rpNwTuCSx"
      },
      "execution_count": null,
      "outputs": []
    },
    {
      "cell_type": "code",
      "source": [
        "df1_pm_raw.columns = [ \"유형\",\n",
        "                 \"2017년\", \"2017년 0~2시\", \"2017년 2~4시\", \"2017년 4~6시\", \"2017년 6~8시\",\n",
        "                 \"2017년 8~10시\", \"2017년 10~12시\", \"2017년 12~14시\", \"2017년 14~16시\", \n",
        "                 \"2017년 16~18시\", \"2017년 18~20시\", \"2017년 20~22시\",\"2017년 22~24시\", \n",
        "                 \"2018년\", \"2018년 0~2시\", \"2018년 2~4시\", \"2018년 4~6시\", \"2018년 6~8시\",\n",
        "                 \"2018년 8~10시\", \"2018년 10~12시\", \"2018년 12~14시\", \"2018년 14~16시\", \n",
        "                 \"2018년 16~18시\", \"2018년 18~20시\", \"2018년 20~22시\",\"2018년 22~24시\",\n",
        "                 \"2019년\", \"2019년 0~2시\", \"2019년 2~4시\", \"2019년 4~6시\", \"2019년 6~8시\",\n",
        "                 \"2019년 8~10시\", \"2019년 10~12시\", \"2019년 12~14시\", \"2019년 14~16시\", \n",
        "                 \"2019년 16~18시\", \"2019년 18~20시\", \"2019년 20~22시\",\"2019년 22~24시\",\n",
        "                 \"2020년\", \"2020년 0~2시\", \"2020년 2~4시\", \"2020년 4~6시\", \"2020년 6~8시\",\n",
        "                 \"2020년 8~10시\", \"2020년 10~12시\", \"2020년 12~14시\", \"2020년 14~16시\", \n",
        "                 \"2020년 16~18시\", \"2020년 18~20시\", \"2020년 20~22시\",\"2020년 22~24시\",\n",
        "                 \"2021년\", \"2021년 0~2시\", \"2021년 2~4시\", \"2021년 4~6시\", \"2021년 6~8시\",\n",
        "                 \"2021년 8~10시\", \"2021년 10~12시\", \"2021년 12~14시\", \"2021년 14~16시\", \n",
        "                 \"2021년 16~18시\", \"2021년 18~20시\", \"2021년 20~22시\",\"2021년 22~24시\"]"
      ],
      "metadata": {
        "id": "GpBM8dnsuDTm"
      },
      "execution_count": null,
      "outputs": []
    },
    {
      "cell_type": "code",
      "source": [
        "df_pm_time = df1_pm_raw.reset_index(drop = True).replace('-', 0).drop(columns = [\"2017년\", \"2018년\",\"2019년\",\"2020년\",\"2021년\"])\n",
        "pm_time_acci = df_pm_time.iloc[0:1]\n",
        "pm_time_acci"
      ],
      "metadata": {
        "colab": {
          "base_uri": "https://localhost:8080/",
          "height": 278
        },
        "id": "6YcoR5SCuEwG",
        "outputId": "4b4d7527-87fe-4941-9af4-c4730a2bc4dc"
      },
      "execution_count": null,
      "outputs": [
        {
          "output_type": "execute_result",
          "data": {
            "text/plain": [
              "     유형 2017년 0~2시 2017년 2~4시 2017년 4~6시 2017년 6~8시 2017년 8~10시 2017년 10~12시  \\\n",
              "0  사고건수          6          8          1          7          20           10   \n",
              "\n",
              "  2017년 12~14시 2017년 14~16시 2017년 16~18시  ... 2021년 4~6시 2021년 6~8시  \\\n",
              "0            6           10            8  ...         28         52   \n",
              "\n",
              "  2021년 8~10시 2021년 10~12시 2021년 12~14시 2021년 14~16시 2021년 16~18시  \\\n",
              "0         135          122          142          185          250   \n",
              "\n",
              "  2021년 18~20시 2021년 20~22시 2021년 22~24시  \n",
              "0          247          204          232  \n",
              "\n",
              "[1 rows x 61 columns]"
            ],
            "text/html": [
              "\n",
              "  <div id=\"df-cff6eeb9-33ae-4138-9d23-5bb0d5b76b8d\">\n",
              "    <div class=\"colab-df-container\">\n",
              "      <div>\n",
              "<style scoped>\n",
              "    .dataframe tbody tr th:only-of-type {\n",
              "        vertical-align: middle;\n",
              "    }\n",
              "\n",
              "    .dataframe tbody tr th {\n",
              "        vertical-align: top;\n",
              "    }\n",
              "\n",
              "    .dataframe thead th {\n",
              "        text-align: right;\n",
              "    }\n",
              "</style>\n",
              "<table border=\"1\" class=\"dataframe\">\n",
              "  <thead>\n",
              "    <tr style=\"text-align: right;\">\n",
              "      <th></th>\n",
              "      <th>유형</th>\n",
              "      <th>2017년 0~2시</th>\n",
              "      <th>2017년 2~4시</th>\n",
              "      <th>2017년 4~6시</th>\n",
              "      <th>2017년 6~8시</th>\n",
              "      <th>2017년 8~10시</th>\n",
              "      <th>2017년 10~12시</th>\n",
              "      <th>2017년 12~14시</th>\n",
              "      <th>2017년 14~16시</th>\n",
              "      <th>2017년 16~18시</th>\n",
              "      <th>...</th>\n",
              "      <th>2021년 4~6시</th>\n",
              "      <th>2021년 6~8시</th>\n",
              "      <th>2021년 8~10시</th>\n",
              "      <th>2021년 10~12시</th>\n",
              "      <th>2021년 12~14시</th>\n",
              "      <th>2021년 14~16시</th>\n",
              "      <th>2021년 16~18시</th>\n",
              "      <th>2021년 18~20시</th>\n",
              "      <th>2021년 20~22시</th>\n",
              "      <th>2021년 22~24시</th>\n",
              "    </tr>\n",
              "  </thead>\n",
              "  <tbody>\n",
              "    <tr>\n",
              "      <th>0</th>\n",
              "      <td>사고건수</td>\n",
              "      <td>6</td>\n",
              "      <td>8</td>\n",
              "      <td>1</td>\n",
              "      <td>7</td>\n",
              "      <td>20</td>\n",
              "      <td>10</td>\n",
              "      <td>6</td>\n",
              "      <td>10</td>\n",
              "      <td>8</td>\n",
              "      <td>...</td>\n",
              "      <td>28</td>\n",
              "      <td>52</td>\n",
              "      <td>135</td>\n",
              "      <td>122</td>\n",
              "      <td>142</td>\n",
              "      <td>185</td>\n",
              "      <td>250</td>\n",
              "      <td>247</td>\n",
              "      <td>204</td>\n",
              "      <td>232</td>\n",
              "    </tr>\n",
              "  </tbody>\n",
              "</table>\n",
              "<p>1 rows × 61 columns</p>\n",
              "</div>\n",
              "      <button class=\"colab-df-convert\" onclick=\"convertToInteractive('df-cff6eeb9-33ae-4138-9d23-5bb0d5b76b8d')\"\n",
              "              title=\"Convert this dataframe to an interactive table.\"\n",
              "              style=\"display:none;\">\n",
              "        \n",
              "  <svg xmlns=\"http://www.w3.org/2000/svg\" height=\"24px\"viewBox=\"0 0 24 24\"\n",
              "       width=\"24px\">\n",
              "    <path d=\"M0 0h24v24H0V0z\" fill=\"none\"/>\n",
              "    <path d=\"M18.56 5.44l.94 2.06.94-2.06 2.06-.94-2.06-.94-.94-2.06-.94 2.06-2.06.94zm-11 1L8.5 8.5l.94-2.06 2.06-.94-2.06-.94L8.5 2.5l-.94 2.06-2.06.94zm10 10l.94 2.06.94-2.06 2.06-.94-2.06-.94-.94-2.06-.94 2.06-2.06.94z\"/><path d=\"M17.41 7.96l-1.37-1.37c-.4-.4-.92-.59-1.43-.59-.52 0-1.04.2-1.43.59L10.3 9.45l-7.72 7.72c-.78.78-.78 2.05 0 2.83L4 21.41c.39.39.9.59 1.41.59.51 0 1.02-.2 1.41-.59l7.78-7.78 2.81-2.81c.8-.78.8-2.07 0-2.86zM5.41 20L4 18.59l7.72-7.72 1.47 1.35L5.41 20z\"/>\n",
              "  </svg>\n",
              "      </button>\n",
              "      \n",
              "  <style>\n",
              "    .colab-df-container {\n",
              "      display:flex;\n",
              "      flex-wrap:wrap;\n",
              "      gap: 12px;\n",
              "    }\n",
              "\n",
              "    .colab-df-convert {\n",
              "      background-color: #E8F0FE;\n",
              "      border: none;\n",
              "      border-radius: 50%;\n",
              "      cursor: pointer;\n",
              "      display: none;\n",
              "      fill: #1967D2;\n",
              "      height: 32px;\n",
              "      padding: 0 0 0 0;\n",
              "      width: 32px;\n",
              "    }\n",
              "\n",
              "    .colab-df-convert:hover {\n",
              "      background-color: #E2EBFA;\n",
              "      box-shadow: 0px 1px 2px rgba(60, 64, 67, 0.3), 0px 1px 3px 1px rgba(60, 64, 67, 0.15);\n",
              "      fill: #174EA6;\n",
              "    }\n",
              "\n",
              "    [theme=dark] .colab-df-convert {\n",
              "      background-color: #3B4455;\n",
              "      fill: #D2E3FC;\n",
              "    }\n",
              "\n",
              "    [theme=dark] .colab-df-convert:hover {\n",
              "      background-color: #434B5C;\n",
              "      box-shadow: 0px 1px 3px 1px rgba(0, 0, 0, 0.15);\n",
              "      filter: drop-shadow(0px 1px 2px rgba(0, 0, 0, 0.3));\n",
              "      fill: #FFFFFF;\n",
              "    }\n",
              "  </style>\n",
              "\n",
              "      <script>\n",
              "        const buttonEl =\n",
              "          document.querySelector('#df-cff6eeb9-33ae-4138-9d23-5bb0d5b76b8d button.colab-df-convert');\n",
              "        buttonEl.style.display =\n",
              "          google.colab.kernel.accessAllowed ? 'block' : 'none';\n",
              "\n",
              "        async function convertToInteractive(key) {\n",
              "          const element = document.querySelector('#df-cff6eeb9-33ae-4138-9d23-5bb0d5b76b8d');\n",
              "          const dataTable =\n",
              "            await google.colab.kernel.invokeFunction('convertToInteractive',\n",
              "                                                     [key], {});\n",
              "          if (!dataTable) return;\n",
              "\n",
              "          const docLinkHtml = 'Like what you see? Visit the ' +\n",
              "            '<a target=\"_blank\" href=https://colab.research.google.com/notebooks/data_table.ipynb>data table notebook</a>'\n",
              "            + ' to learn more about interactive tables.';\n",
              "          element.innerHTML = '';\n",
              "          dataTable['output_type'] = 'display_data';\n",
              "          await google.colab.output.renderOutput(dataTable, element);\n",
              "          const docLink = document.createElement('div');\n",
              "          docLink.innerHTML = docLinkHtml;\n",
              "          element.appendChild(docLink);\n",
              "        }\n",
              "      </script>\n",
              "    </div>\n",
              "  </div>\n",
              "  "
            ]
          },
          "metadata": {},
          "execution_count": 9
        }
      ]
    },
    {
      "cell_type": "code",
      "source": [
        "df_pm_time_acci = df_pm_time.iloc[0:1, 1:]\n",
        "time_2017_acci = df_pm_time_acci.iloc[:,0:12]\n",
        "time_2017_acci"
      ],
      "metadata": {
        "colab": {
          "base_uri": "https://localhost:8080/",
          "height": 177
        },
        "id": "OsFmgOWRQTo-",
        "outputId": "3e7a2257-5c7f-45c1-b591-116a671d31fe"
      },
      "execution_count": null,
      "outputs": [
        {
          "output_type": "execute_result",
          "data": {
            "text/plain": [
              "  2017년 0~2시 2017년 2~4시 2017년 4~6시 2017년 6~8시 2017년 8~10시 2017년 10~12시  \\\n",
              "0          6          8          1          7          20           10   \n",
              "\n",
              "  2017년 12~14시 2017년 14~16시 2017년 16~18시 2017년 18~20시 2017년 20~22시  \\\n",
              "0            6           10            8           15           13   \n",
              "\n",
              "  2017년 22~24시  \n",
              "0           13  "
            ],
            "text/html": [
              "\n",
              "  <div id=\"df-540057ea-8abb-499a-884e-014f108a8b0c\">\n",
              "    <div class=\"colab-df-container\">\n",
              "      <div>\n",
              "<style scoped>\n",
              "    .dataframe tbody tr th:only-of-type {\n",
              "        vertical-align: middle;\n",
              "    }\n",
              "\n",
              "    .dataframe tbody tr th {\n",
              "        vertical-align: top;\n",
              "    }\n",
              "\n",
              "    .dataframe thead th {\n",
              "        text-align: right;\n",
              "    }\n",
              "</style>\n",
              "<table border=\"1\" class=\"dataframe\">\n",
              "  <thead>\n",
              "    <tr style=\"text-align: right;\">\n",
              "      <th></th>\n",
              "      <th>2017년 0~2시</th>\n",
              "      <th>2017년 2~4시</th>\n",
              "      <th>2017년 4~6시</th>\n",
              "      <th>2017년 6~8시</th>\n",
              "      <th>2017년 8~10시</th>\n",
              "      <th>2017년 10~12시</th>\n",
              "      <th>2017년 12~14시</th>\n",
              "      <th>2017년 14~16시</th>\n",
              "      <th>2017년 16~18시</th>\n",
              "      <th>2017년 18~20시</th>\n",
              "      <th>2017년 20~22시</th>\n",
              "      <th>2017년 22~24시</th>\n",
              "    </tr>\n",
              "  </thead>\n",
              "  <tbody>\n",
              "    <tr>\n",
              "      <th>0</th>\n",
              "      <td>6</td>\n",
              "      <td>8</td>\n",
              "      <td>1</td>\n",
              "      <td>7</td>\n",
              "      <td>20</td>\n",
              "      <td>10</td>\n",
              "      <td>6</td>\n",
              "      <td>10</td>\n",
              "      <td>8</td>\n",
              "      <td>15</td>\n",
              "      <td>13</td>\n",
              "      <td>13</td>\n",
              "    </tr>\n",
              "  </tbody>\n",
              "</table>\n",
              "</div>\n",
              "      <button class=\"colab-df-convert\" onclick=\"convertToInteractive('df-540057ea-8abb-499a-884e-014f108a8b0c')\"\n",
              "              title=\"Convert this dataframe to an interactive table.\"\n",
              "              style=\"display:none;\">\n",
              "        \n",
              "  <svg xmlns=\"http://www.w3.org/2000/svg\" height=\"24px\"viewBox=\"0 0 24 24\"\n",
              "       width=\"24px\">\n",
              "    <path d=\"M0 0h24v24H0V0z\" fill=\"none\"/>\n",
              "    <path d=\"M18.56 5.44l.94 2.06.94-2.06 2.06-.94-2.06-.94-.94-2.06-.94 2.06-2.06.94zm-11 1L8.5 8.5l.94-2.06 2.06-.94-2.06-.94L8.5 2.5l-.94 2.06-2.06.94zm10 10l.94 2.06.94-2.06 2.06-.94-2.06-.94-.94-2.06-.94 2.06-2.06.94z\"/><path d=\"M17.41 7.96l-1.37-1.37c-.4-.4-.92-.59-1.43-.59-.52 0-1.04.2-1.43.59L10.3 9.45l-7.72 7.72c-.78.78-.78 2.05 0 2.83L4 21.41c.39.39.9.59 1.41.59.51 0 1.02-.2 1.41-.59l7.78-7.78 2.81-2.81c.8-.78.8-2.07 0-2.86zM5.41 20L4 18.59l7.72-7.72 1.47 1.35L5.41 20z\"/>\n",
              "  </svg>\n",
              "      </button>\n",
              "      \n",
              "  <style>\n",
              "    .colab-df-container {\n",
              "      display:flex;\n",
              "      flex-wrap:wrap;\n",
              "      gap: 12px;\n",
              "    }\n",
              "\n",
              "    .colab-df-convert {\n",
              "      background-color: #E8F0FE;\n",
              "      border: none;\n",
              "      border-radius: 50%;\n",
              "      cursor: pointer;\n",
              "      display: none;\n",
              "      fill: #1967D2;\n",
              "      height: 32px;\n",
              "      padding: 0 0 0 0;\n",
              "      width: 32px;\n",
              "    }\n",
              "\n",
              "    .colab-df-convert:hover {\n",
              "      background-color: #E2EBFA;\n",
              "      box-shadow: 0px 1px 2px rgba(60, 64, 67, 0.3), 0px 1px 3px 1px rgba(60, 64, 67, 0.15);\n",
              "      fill: #174EA6;\n",
              "    }\n",
              "\n",
              "    [theme=dark] .colab-df-convert {\n",
              "      background-color: #3B4455;\n",
              "      fill: #D2E3FC;\n",
              "    }\n",
              "\n",
              "    [theme=dark] .colab-df-convert:hover {\n",
              "      background-color: #434B5C;\n",
              "      box-shadow: 0px 1px 3px 1px rgba(0, 0, 0, 0.15);\n",
              "      filter: drop-shadow(0px 1px 2px rgba(0, 0, 0, 0.3));\n",
              "      fill: #FFFFFF;\n",
              "    }\n",
              "  </style>\n",
              "\n",
              "      <script>\n",
              "        const buttonEl =\n",
              "          document.querySelector('#df-540057ea-8abb-499a-884e-014f108a8b0c button.colab-df-convert');\n",
              "        buttonEl.style.display =\n",
              "          google.colab.kernel.accessAllowed ? 'block' : 'none';\n",
              "\n",
              "        async function convertToInteractive(key) {\n",
              "          const element = document.querySelector('#df-540057ea-8abb-499a-884e-014f108a8b0c');\n",
              "          const dataTable =\n",
              "            await google.colab.kernel.invokeFunction('convertToInteractive',\n",
              "                                                     [key], {});\n",
              "          if (!dataTable) return;\n",
              "\n",
              "          const docLinkHtml = 'Like what you see? Visit the ' +\n",
              "            '<a target=\"_blank\" href=https://colab.research.google.com/notebooks/data_table.ipynb>data table notebook</a>'\n",
              "            + ' to learn more about interactive tables.';\n",
              "          element.innerHTML = '';\n",
              "          dataTable['output_type'] = 'display_data';\n",
              "          await google.colab.output.renderOutput(dataTable, element);\n",
              "          const docLink = document.createElement('div');\n",
              "          docLink.innerHTML = docLinkHtml;\n",
              "          element.appendChild(docLink);\n",
              "        }\n",
              "      </script>\n",
              "    </div>\n",
              "  </div>\n",
              "  "
            ]
          },
          "metadata": {},
          "execution_count": 14
        }
      ]
    },
    {
      "cell_type": "code",
      "source": [
        "df_pm_time_acci = df_pm_time.iloc[0:1, 1:]\n",
        "\n",
        "#per year accident\n",
        "time_2017_acci = df_pm_time_acci.iloc[:,0:12]\n",
        "time_2018_acci = df_pm_time_acci.iloc[:,12:24]\n",
        "time_2019_acci = df_pm_time_acci.iloc[:,24:36]\n",
        "time_2020_acci = df_pm_time_acci.iloc[:,36:48]\n",
        "time_2021_acci = df_pm_time_acci.iloc[:,48:60]\n",
        "\n",
        "#dataframe to list\n",
        "list_2017_acci = time_2017_acci.values.tolist()\n",
        "list_2018_acci = time_2018_acci.values.tolist()\n",
        "list_2019_acci = time_2019_acci.values.tolist()\n",
        "list_2020_acci = time_2020_acci.values.tolist()\n",
        "list_2021_acci = time_2021_acci.values.tolist()"
      ],
      "metadata": {
        "id": "TDMP86MPK2Ad"
      },
      "execution_count": null,
      "outputs": []
    },
    {
      "cell_type": "code",
      "source": [
        "import matplotlib.pyplot as plt\n",
        "import numpy as np"
      ],
      "metadata": {
        "id": "sGK1z82QQlkP"
      },
      "execution_count": null,
      "outputs": []
    },
    {
      "cell_type": "code",
      "source": [
        "#사고건수 plot\n",
        "x = [\"0~2시\", \"2~4시\", \"4~6시\", \"6~8시\", \"8~10시\", \"10~12시\", \"12~14시\", \"14~16시\", \n",
        "    \"16~18시\", \"18~20시\", \"20~22시\",\"22~24시\"]\n",
        "y = np.vstack([list_2017_acci, list_2018_acci, list_2019_acci, list_2020_acci, list_2021_acci])\n",
        "labels = [\"2017년\", \"2018년\", \"2019년\", \"2020년\", \"2021년\"]\n",
        "\n",
        "plt.figure(figsize=(12,4))\n",
        "plt.stackplot(x, y,labels = labels, colors = ['#BFDE9C','#B3D98C','#98DDAB','#8CD581','#246B62'])\n",
        "\n",
        "plt.xlabel('시간')\n",
        "plt.ylabel('사고건수')\n",
        "plt.title('시간별 사고건수')\n",
        "plt.legend(loc = 'upper left', frameon = True, shadow = True)\n",
        "plt.grid()\n",
        "plt.show()\n",
        "plt.tight_layout()"
      ],
      "metadata": {
        "colab": {
          "base_uri": "https://localhost:8080/",
          "height": 313
        },
        "id": "PIknTgMjQnvi",
        "outputId": "2803ed11-2520-4587-cf17-eda1051cf31a"
      },
      "execution_count": 30,
      "outputs": [
        {
          "output_type": "display_data",
          "data": {
            "text/plain": [
              "<Figure size 864x288 with 1 Axes>"
            ],
            "image/png": "[encoded data removed]"
          },
          "metadata": {
            "needs_background": "light"
          }
        },
        {
          "output_type": "display_data",
          "data": {
            "text/plain": [
              "<Figure size 432x288 with 0 Axes>"
            ]
          },
          "metadata": {}
        }
      ]
    }
  ]
}